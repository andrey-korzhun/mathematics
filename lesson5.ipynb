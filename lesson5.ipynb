{
 "cells": [
  {
   "cell_type": "markdown",
   "metadata": {},
   "source": [
    "## Выполнение практического задания к уроку №5\n",
    "### Тема “Элементы теории вероятностей”"
   ]
  },
  {
   "cell_type": "code",
   "execution_count": 1,
   "metadata": {
    "ExecuteTime": {
     "end_time": "2021-01-10T14:31:57.726851Z",
     "start_time": "2021-01-10T14:31:57.099308Z"
    }
   },
   "outputs": [],
   "source": [
    "import numpy as np\n",
    "import matplotlib.pyplot as plt\n",
    "import pandas as pd\n",
    "import itertools\n",
    "\n",
    "from math import factorial as fact"
   ]
  },
  {
   "cell_type": "markdown",
   "metadata": {},
   "source": [
    "### 1. Напишите код, моделирующий выпадение поля в рулетке (с учетом поля зеро)."
   ]
  },
  {
   "cell_type": "code",
   "execution_count": 2,
   "metadata": {
    "ExecuteTime": {
     "end_time": "2021-01-10T14:31:57.900204Z",
     "start_time": "2021-01-10T14:31:57.728636Z"
    }
   },
   "outputs": [
    {
     "data": {
      "text/plain": [
       "[<matplotlib.lines.Line2D at 0x17f6a483d08>]"
      ]
     },
     "execution_count": 2,
     "metadata": {},
     "output_type": "execute_result"
    },
    {
     "data": {
      "image/png": "[encoded data removed]",
      "text/plain": [
       "<Figure size 432x288 with 1 Axes>"
      ]
     },
     "metadata": {
      "needs_background": "light"
     },
     "output_type": "display_data"
    }
   ],
   "source": [
    "np.random.seed(0)\n",
    "\n",
    "tries = 37\n",
    "slots = 37\n",
    "\n",
    "rulett_num = np.random.randint(0, slots, tries)\n",
    "\n",
    "count, bins, patches = plt.hist(rulett_num, slots)\n",
    "avarage = np.full(slots + 1, tries / slots)\n",
    "plt.plot(bins, avarage, 'r--', linewidth=2)"
   ]
  },
  {
   "cell_type": "markdown",
   "metadata": {},
   "source": [
    "### 2.1 Напишите код, проверяющий любую из теорем сложения или умножения вероятности на примере рулетки или подбрасывания монетки"
   ]
  },
  {
   "cell_type": "code",
   "execution_count": 3,
   "metadata": {
    "ExecuteTime": {
     "end_time": "2021-01-10T14:31:57.916232Z",
     "start_time": "2021-01-10T14:31:57.901129Z"
    }
   },
   "outputs": [],
   "source": [
    "def flip_coin():\n",
    "    x = np.random.uniform(0, 10)\n",
    "    if x < 5:\n",
    "        return 1\n",
    "    else:\n",
    "        return 0"
   ]
  },
  {
   "cell_type": "code",
   "execution_count": 4,
   "metadata": {
    "ExecuteTime": {
     "end_time": "2021-01-10T14:31:57.932044Z",
     "start_time": "2021-01-10T14:31:57.917065Z"
    }
   },
   "outputs": [
    {
     "data": {
      "text/plain": [
       "1.0590760718779213"
      ]
     },
     "execution_count": 4,
     "metadata": {},
     "output_type": "execute_result"
    }
   ],
   "source": [
    "np.random.uniform(0, 10)"
   ]
  },
  {
   "cell_type": "markdown",
   "metadata": {},
   "source": [
    "#### Проверим вероятность выпадения двух орлов (0.25).  P(AB) = P(A) * P(B)"
   ]
  },
  {
   "cell_type": "code",
   "execution_count": 5,
   "metadata": {
    "ExecuteTime": {
     "end_time": "2021-01-10T14:31:57.995843Z",
     "start_time": "2021-01-10T14:31:57.933012Z"
    }
   },
   "outputs": [
    {
     "name": "stdout",
     "output_type": "stream",
     "text": [
      "Два орла выпали с вероятностью 0.2453 vs. 0.25\n"
     ]
    }
   ],
   "source": [
    "turns = 10000\n",
    "count = 0\n",
    "\n",
    "for i in range(turns):\n",
    "    coin1 = flip_coin()\n",
    "    coin2 = flip_coin()\n",
    "    if coin1 == 1 and coin2 == 1:\n",
    "        count += 1\n",
    "        \n",
    "print(f'Два орла выпали с вероятностью {count/turns} vs. 0.25')"
   ]
  },
  {
   "cell_type": "markdown",
   "metadata": {},
   "source": [
    "### 2.2 Сгенерируйте десять выборок случайных чисел х0, …, х9 и постройте гистограмму распределения случайной суммы х0+х1+ …+ х9.**"
   ]
  },
  {
   "cell_type": "code",
   "execution_count": 6,
   "metadata": {
    "ExecuteTime": {
     "end_time": "2021-01-10T14:31:58.138653Z",
     "start_time": "2021-01-10T14:31:57.997868Z"
    }
   },
   "outputs": [
    {
     "data": {
      "image/png": "[encoded data removed]",
      "text/plain": [
       "<Figure size 432x288 with 1 Axes>"
      ]
     },
     "metadata": {
      "needs_background": "light"
     },
     "output_type": "display_data"
    }
   ],
   "source": [
    "x = np.random.rand(10,10)\n",
    "plt.hist(x.sum(axis=1), 3);\n",
    "plt.ylabel('Probability')\n",
    "plt.xlabel('Сумма')\n",
    "plt.title('Диаграмма распределения х0+х1+ …+ x9');"
   ]
  },
  {
   "cell_type": "code",
   "execution_count": 7,
   "metadata": {
    "ExecuteTime": {
     "end_time": "2021-01-10T14:31:58.297513Z",
     "start_time": "2021-01-10T14:31:58.139651Z"
    }
   },
   "outputs": [
    {
     "data": {
      "text/plain": [
       "Text(0.5, 1.0, 'Диаграмма распределения х0+х1+ …+ х1000')"
      ]
     },
     "execution_count": 7,
     "metadata": {},
     "output_type": "execute_result"
    },
    {
     "data": {
      "image/png": "[encoded data removed]",
      "text/plain": [
       "<Figure size 432x288 with 1 Axes>"
      ]
     },
     "metadata": {
      "needs_background": "light"
     },
     "output_type": "display_data"
    }
   ],
   "source": [
    "x = np.random.rand(1000,1000)\n",
    "plt.hist(x.sum(axis=1), 10);\n",
    "plt.ylabel('Probability')\n",
    "plt.xlabel('Сумма')\n",
    "plt.title('Диаграмма распределения х0+х1+ …+ х1000')"
   ]
  },
  {
   "cell_type": "markdown",
   "metadata": {},
   "source": [
    "### 3.1 Дополните код Монте-Карло последовательности независимых испытаний расчетом соответствующих вероятностей (через биномиальное распределение) и сравните результаты."
   ]
  },
  {
   "cell_type": "code",
   "execution_count": 8,
   "metadata": {
    "ExecuteTime": {
     "end_time": "2021-01-10T14:31:58.313473Z",
     "start_time": "2021-01-10T14:31:58.300507Z"
    }
   },
   "outputs": [],
   "source": [
    "def mc_test(turns=100, n=2, k=1):\n",
    "    m = np.random.randint(0, 2, size=(n, turns))\n",
    "    m_sum = np.isin(np.sum(m, axis=0), k).sum()\n",
    "    print(f'{k} успешных событий произошло {m_sum} раз из {turns} испытаний')\n",
    "    print(f'Вероятность {k} успешных событий = {m_sum/turns}')"
   ]
  },
  {
   "cell_type": "code",
   "execution_count": 9,
   "metadata": {
    "ExecuteTime": {
     "end_time": "2021-01-10T14:31:58.328786Z",
     "start_time": "2021-01-10T14:31:58.314471Z"
    }
   },
   "outputs": [
    {
     "name": "stdout",
     "output_type": "stream",
     "text": [
      "2 успешных событий произошло 37619 раз из 100000 испытаний\n",
      "Вероятность 2 успешных событий = 0.37619\n"
     ]
    }
   ],
   "source": [
    "mc_test(turns=100000, n=4, k=2)"
   ]
  },
  {
   "cell_type": "markdown",
   "metadata": {},
   "source": [
    "#### Проверка:<br>\n",
    "$P_{n}(k)=C\\binom{k}{n}\\frac{1}{2^n}=\\frac{4!}{2!(4-2)!}*\\frac{1}{2^{4}}=\\frac{3}{8}=0.375$"
   ]
  },
  {
   "cell_type": "markdown",
   "metadata": {},
   "source": [
    "### 3.2 Повторите расчеты, взяв другие значения n и k.**"
   ]
  },
  {
   "cell_type": "code",
   "execution_count": 10,
   "metadata": {
    "ExecuteTime": {
     "end_time": "2021-01-10T14:31:58.566643Z",
     "start_time": "2021-01-10T14:31:58.329978Z"
    }
   },
   "outputs": [
    {
     "name": "stdout",
     "output_type": "stream",
     "text": [
      "7 успешных событий произошло 10 раз из 1000000 испытаний\n",
      "Вероятность 7 успешных событий = 1e-05\n"
     ]
    }
   ],
   "source": [
    "mc_test(turns=1000000, n=42, k=7)"
   ]
  },
  {
   "cell_type": "markdown",
   "metadata": {},
   "source": [
    "### 4.  Из урока по комбинаторике повторите расчеты, сгенерировав возможные варианты перестановок для других значений n и k"
   ]
  },
  {
   "cell_type": "code",
   "execution_count": 11,
   "metadata": {
    "ExecuteTime": {
     "end_time": "2021-01-10T14:32:05.642434Z",
     "start_time": "2021-01-10T14:31:58.568368Z"
    }
   },
   "outputs": [
    {
     "name": "stdout",
     "output_type": "stream",
     "text": [
      "['9876543021', '9876543102', '9876543120', '9876543201']\n"
     ]
    },
    {
     "data": {
      "text/plain": [
       "3628800"
      ]
     },
     "execution_count": 11,
     "metadata": {},
     "output_type": "execute_result"
    }
   ],
   "source": [
    "examples = []\n",
    "for p in itertools.permutations('0123456789', 10):\n",
    "    examples.append(''.join(str(x) for x in p))\n",
    "\n",
    "print(examples[-5:-1])\n",
    "len(examples)"
   ]
  },
  {
   "cell_type": "code",
   "execution_count": 12,
   "metadata": {
    "ExecuteTime": {
     "end_time": "2021-01-10T14:32:05.737182Z",
     "start_time": "2021-01-10T14:32:05.644429Z"
    }
   },
   "outputs": [
    {
     "name": "stdout",
     "output_type": "stream",
     "text": [
      "['94', '95', '96', '97']\n"
     ]
    },
    {
     "data": {
      "text/plain": [
       "90"
      ]
     },
     "execution_count": 12,
     "metadata": {},
     "output_type": "execute_result"
    }
   ],
   "source": [
    "examples = []\n",
    "for p in itertools.permutations('0123456789', 2):\n",
    "    examples.append(''.join(str(x) for x in p))\n",
    "\n",
    "print(examples[-5:-1])\n",
    "len(examples)"
   ]
  },
  {
   "cell_type": "code",
   "execution_count": 13,
   "metadata": {
    "ExecuteTime": {
     "end_time": "2021-01-10T14:32:05.752141Z",
     "start_time": "2021-01-10T14:32:05.739176Z"
    }
   },
   "outputs": [
    {
     "name": "stdout",
     "output_type": "stream",
     "text": [
      "['68', '69', '78', '79']\n"
     ]
    },
    {
     "data": {
      "text/plain": [
       "45"
      ]
     },
     "execution_count": 13,
     "metadata": {},
     "output_type": "execute_result"
    }
   ],
   "source": [
    "examples = []\n",
    "for p in itertools.combinations('0123456789', 2):\n",
    "    examples.append(''.join(str(x) for x in p))\n",
    "\n",
    "print(examples[-5:-1])\n",
    "len(examples)"
   ]
  },
  {
   "attachments": {
    "image.png": {
     "image/png": "[encoded data removed]"
    }
   },
   "cell_type": "markdown",
   "metadata": {},
   "source": [
    "### 5. Дополните код расчетом коэффициента корреляции x и y по формуле\n",
    "![image.png](attachment:image.png)"
   ]
  },
  {
   "cell_type": "code",
   "execution_count": 14,
   "metadata": {
    "ExecuteTime": {
     "end_time": "2021-01-10T14:32:05.878209Z",
     "start_time": "2021-01-10T14:32:05.754136Z"
    }
   },
   "outputs": [
    {
     "name": "stdout",
     "output_type": "stream",
     "text": [
      "Матрица корреляции:\n",
      "[[1.         0.91918476]\n",
      " [0.91918476 1.        ]]\n"
     ]
    },
    {
     "data": {
      "image/png": "[encoded data removed]",
      "text/plain": [
       "<Figure size 432x288 with 1 Axes>"
      ]
     },
     "metadata": {
      "needs_background": "light"
     },
     "output_type": "display_data"
    }
   ],
   "source": [
    "n = 100\n",
    "r = 0.7\n",
    "x = np.random.rand(n)\n",
    "y = r*x + (1 - r)*np.random.rand(n)\n",
    "plt.plot(x, y, 'o')\n",
    "plt.xlabel('x')\n",
    "plt.ylabel('y')\n",
    "plt.grid()\n",
    "c = np.corrcoef(x, y)\n",
    "print(f'Матрица корреляции:\\n{c}')"
   ]
  },
  {
   "cell_type": "markdown",
   "metadata": {
    "ExecuteTime": {
     "end_time": "2021-01-10T14:25:57.444403Z",
     "start_time": "2021-01-10T14:25:57.440414Z"
    }
   },
   "source": [
    "#### Проверка"
   ]
  },
  {
   "cell_type": "code",
   "execution_count": 15,
   "metadata": {
    "ExecuteTime": {
     "end_time": "2021-01-10T14:32:05.893809Z",
     "start_time": "2021-01-10T14:32:05.879413Z"
    }
   },
   "outputs": [
    {
     "data": {
      "text/plain": [
       "0.9191847582918525"
      ]
     },
     "execution_count": 15,
     "metadata": {},
     "output_type": "execute_result"
    }
   ],
   "source": [
    "xm = np.sum(x) / n\n",
    "ym = np.sum(y) / n\n",
    "np.sum( (x - xm)*(y - ym) ) / np.sqrt( np.sum((x - xm)**2) * np.sum((y - ym)**2) )"
   ]
  },
  {
   "cell_type": "code",
   "execution_count": null,
   "metadata": {},
   "outputs": [],
   "source": []
  }
 ],
 "metadata": {
  "kernelspec": {
   "display_name": "Python 3",
   "language": "python",
   "name": "python3"
  },
  "language_info": {
   "codemirror_mode": {
    "name": "ipython",
    "version": 3
   },
   "file_extension": ".py",
   "mimetype": "text/x-python",
   "name": "python",
   "nbconvert_exporter": "python",
   "pygments_lexer": "ipython3",
   "version": "3.7.6"
  }
 },
 "nbformat": 4,
 "nbformat_minor": 2
}
