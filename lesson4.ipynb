{
 "cells": [
  {
   "cell_type": "markdown",
   "metadata": {},
   "source": [
    "## Выполнение практического задания к уроку 4 по теме “Введение в аналитическую геометрию. Графики на плоскости”"
   ]
  },
  {
   "attachments": {},
   "cell_type": "markdown",
   "metadata": {},
   "source": [
    "### 1. Задание (на листочке)\n",
    "Решите уравнение \n",
    "sin(x)/x=0."
   ]
  },
  {
   "cell_type": "markdown",
   "metadata": {},
   "source": [
    "#### Решение"
   ]
  },
  {
   "cell_type": "markdown",
   "metadata": {},
   "source": [
    "Преобразуем уравнение в следующий вид: xsin(x) = 0. Отсюда x = npi, где n - целое число и не равно 0"
   ]
  },
  {
   "cell_type": "code",
   "execution_count": 1,
   "metadata": {
    "ExecuteTime": {
     "end_time": "2021-01-01T04:03:26.157442Z",
     "start_time": "2021-01-01T04:03:25.422387Z"
    }
   },
   "outputs": [
    {
     "data": {
      "text/plain": [
       "[pi]"
      ]
     },
     "execution_count": 1,
     "metadata": {},
     "output_type": "execute_result"
    }
   ],
   "source": [
    "from sympy import *\n",
    "\n",
    "x=Symbol('x')\n",
    "solve(sin(x)/x, x)"
   ]
  },
  {
   "cell_type": "markdown",
   "metadata": {},
   "source": [
    "#### Ответ: n$\\pi$"
   ]
  },
  {
   "cell_type": "markdown",
   "metadata": {},
   "source": [
    "### 2. Задание (на листочке)\n",
    "Даны три прямые y=k1*x+b1, y=k2*x+b2,, y=k3*x+b3. Как узнать, пересекаются они в одной точке или нет?"
   ]
  },
  {
   "cell_type": "markdown",
   "metadata": {},
   "source": [
    "#### Решение"
   ]
  },
  {
   "cell_type": "markdown",
   "metadata": {
    "ExecuteTime": {
     "end_time": "2021-01-01T07:01:26.328608Z",
     "start_time": "2021-01-01T07:01:26.188938Z"
    }
   },
   "source": [
    "Допустим, они пересекаются в точке М(х0, у0). Подставим координаты точки и приравняем уравнения 1 и 2, 1 и 3:\n",
    "\n",
    "k1x0+b1 = k2x0+b2\n",
    "\n",
    "k1x0+b1 = k3x0+b3\n",
    "\n",
    "далее\n",
    "\n",
    "x0 = (b2-b1)/(k1-k2)\n",
    "\n",
    "x0 = (b3-b1)/(k1-k3)\n",
    "\n",
    "далее\n",
    "\n",
    "(b2-b1)/(k1-k2) = (b3-b1)/(k1-k3)\n",
    "\n",
    "Следовательно 3 прямые пересекаются, если:\n",
    "\n",
    "(b2-b1)/(k1-k2) = (b3-b1)/(k1-k3)\n",
    "\n",
    "k1 != k2 !=k3"
   ]
  },
  {
   "cell_type": "markdown",
   "metadata": {},
   "source": [
    "### 3. Задание (в программе или на листочке)\n",
    "На листе тетради «в линейку» (расстояние между линиями равно а) лежит игла (длиной b). Координаты нижней точки иглы (х,у), игла лежит под углом alfa. Пересекает ли игла линию или нет?"
   ]
  },
  {
   "cell_type": "markdown",
   "metadata": {},
   "source": [
    "#### Решение"
   ]
  },
  {
   "cell_type": "markdown",
   "metadata": {},
   "source": [
    "Если alpha = 0, то игла не пересекает линию\n",
    "\n",
    "Если alpha = pi/2 и b>=a, то игла пересекает линию\n",
    "\n",
    "Если b*sin(alpha) >= a, то игла пересекает линию (длина катета, параллельного y)\n",
    "\n",
    "Если y%a(получаем остаток от деления) - b*sin(alfa) >=a, то игла пересекает линию"
   ]
  },
  {
   "cell_type": "code",
   "execution_count": null,
   "metadata": {},
   "outputs": [],
   "source": []
  }
 ],
 "metadata": {
  "kernelspec": {
   "display_name": "Python 3",
   "language": "python",
   "name": "python3"
  },
  "language_info": {
   "codemirror_mode": {
    "name": "ipython",
    "version": 3
   },
   "file_extension": ".py",
   "mimetype": "text/x-python",
   "name": "python",
   "nbconvert_exporter": "python",
   "pygments_lexer": "ipython3",
   "version": "3.7.6"
  }
 },
 "nbformat": 4,
 "nbformat_minor": 4
}
